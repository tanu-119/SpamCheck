{
  "nbformat": 4,
  "nbformat_minor": 0,
  "metadata": {
    "colab": {
      "provenance": []
    },
    "kernelspec": {
      "name": "python3",
      "display_name": "Python 3"
    },
    "language_info": {
      "name": "python"
    }
  },
  "cells": [
    {
      "cell_type": "markdown",
      "source": [
        "Importing neccessary libraries"
      ],
      "metadata": {
        "id": "ukTyAf6rtXL6"
      }
    },
    {
      "cell_type": "code",
      "source": [
        "import pandas as pd\n",
        "from sklearn.model_selection import train_test_split\n",
        "from sklearn.feature_extraction.text import TfidfVectorizer\n",
        "from sklearn.preprocessing import LabelEncoder\n",
        "from sklearn.naive_bayes import MultinomialNB\n",
        "from sklearn.linear_model import LogisticRegression\n",
        "from sklearn.ensemble import RandomForestClassifier\n",
        "from sklearn.metrics import classification_report, accuracy_score\n",
        "import string\n"
      ],
      "metadata": {
        "id": "MrbkMcJOtWlJ"
      },
      "execution_count": 9,
      "outputs": []
    },
    {
      "cell_type": "markdown",
      "source": [
        "Step 1: Load the Dataset"
      ],
      "metadata": {
        "id": "DaEPuLwMsaEg"
      }
    },
    {
      "cell_type": "code",
      "source": [
        "df = pd.read_csv('/content/drive/MyDrive/spam.csv', encoding='latin-1')\n"
      ],
      "metadata": {
        "id": "A7SjYtZksi_2"
      },
      "execution_count": 11,
      "outputs": []
    },
    {
      "cell_type": "markdown",
      "source": [
        "Step 2: Preprocess the Dataset"
      ],
      "metadata": {
        "id": "NC55HwRUsj7b"
      }
    },
    {
      "cell_type": "code",
      "source": [
        "df = df.rename(columns={'v1': 'label', 'v2': 'message'})\n",
        "df = df[['label', 'message']]\n"
      ],
      "metadata": {
        "id": "fjsWmiOmsoVM"
      },
      "execution_count": 12,
      "outputs": []
    },
    {
      "cell_type": "markdown",
      "source": [
        "Step 3: Encode Labels"
      ],
      "metadata": {
        "id": "ytUmOt3dssjc"
      }
    },
    {
      "cell_type": "code",
      "source": [
        "le = LabelEncoder()\n",
        "df['label'] = le.fit_transform(df['label'])\n"
      ],
      "metadata": {
        "id": "RwQGnFnlstVx"
      },
      "execution_count": 13,
      "outputs": []
    },
    {
      "cell_type": "markdown",
      "source": [
        "Step 4: Clean the Text Data"
      ],
      "metadata": {
        "id": "nJRa6iGeswwK"
      }
    },
    {
      "cell_type": "code",
      "source": [
        "def clean_text(text):\n",
        "    text = str(text).lower()\n",
        "    return ''.join([char for char in text if char not in string.punctuation])\n",
        "\n",
        "df['message'] = df['message'].apply(clean_text)\n"
      ],
      "metadata": {
        "id": "c7wVWZOusxWg"
      },
      "execution_count": 14,
      "outputs": []
    },
    {
      "cell_type": "markdown",
      "source": [
        "Step 5: Feature Extraction (TF-IDF)"
      ],
      "metadata": {
        "id": "rAt8IEUas1gX"
      }
    },
    {
      "cell_type": "code",
      "source": [
        "tfidf = TfidfVectorizer(stop_words='english')\n",
        "X = tfidf.fit_transform(df['message'])\n",
        "y = df['label']\n"
      ],
      "metadata": {
        "id": "9rUPlfBYs2-Y"
      },
      "execution_count": 15,
      "outputs": []
    },
    {
      "cell_type": "markdown",
      "source": [
        "Step 6: Split Data for Training and Testing"
      ],
      "metadata": {
        "id": "XpQWQBC2s5r4"
      }
    },
    {
      "cell_type": "code",
      "source": [
        "X_train, X_test, y_train, y_test = train_test_split(X, y, test_size=0.2, random_state=42)\n"
      ],
      "metadata": {
        "id": "bC2Dlytis5Fz"
      },
      "execution_count": 16,
      "outputs": []
    },
    {
      "cell_type": "markdown",
      "source": [
        "Step 7: Train Multiple Models"
      ],
      "metadata": {
        "id": "UJrO20Xls79j"
      }
    },
    {
      "cell_type": "code",
      "source": [
        "models = {\n",
        "    \"Naive Bayes\": MultinomialNB(),\n",
        "    \"Logistic Regression\": LogisticRegression(max_iter=1000),\n",
        "    \"Random Forest\": RandomForestClassifier(random_state=42)\n",
        "}\n"
      ],
      "metadata": {
        "id": "B84l6pvys_Go"
      },
      "execution_count": 17,
      "outputs": []
    },
    {
      "cell_type": "markdown",
      "source": [
        "Step 8: Evaluate Each Model"
      ],
      "metadata": {
        "id": "zPZHQHtVtBfb"
      }
    },
    {
      "cell_type": "code",
      "source": [
        "for name, model in models.items():\n",
        "    model.fit(X_train, y_train)\n",
        "    y_pred = model.predict(X_test)\n",
        "    print(f\"{name}: Accuracy = {accuracy_score(y_test, y_pred):.4f}\")\n",
        "    #print(classification_report(y_test, y_pred, target_names=['Ham', 'Spam']))\n"
      ],
      "metadata": {
        "colab": {
          "base_uri": "https://localhost:8080/"
        },
        "id": "4yH0LX7HtCN2",
        "outputId": "7f60ca1a-6043-454e-d2a3-1cd54fa99b52"
      },
      "execution_count": 18,
      "outputs": [
        {
          "output_type": "stream",
          "name": "stdout",
          "text": [
            "Naive Bayes: Accuracy = 0.9677\n",
            "Logistic Regression: Accuracy = 0.9399\n",
            "Random Forest: Accuracy = 0.9722\n"
          ]
        }
      ]
    },
    {
      "cell_type": "markdown",
      "source": [
        "Step 9: Predict New SMS Message"
      ],
      "metadata": {
        "id": "fpD4jtSKtFso"
      }
    },
    {
      "cell_type": "code",
      "source": [
        "sample = [\"Congratulations! You've won a free vacation to the Bahamas! Reply now!\"]\n",
        "sample_clean = [clean_text(msg) for msg in sample]\n",
        "sample_vect = tfidf.transform(sample_clean)\n",
        "prediction = models[\"Naive Bayes\"].predict(sample_vect)\n"
      ],
      "metadata": {
        "id": "Uuftsi7StHrW"
      },
      "execution_count": 19,
      "outputs": []
    },
    {
      "cell_type": "code",
      "source": [],
      "metadata": {
        "id": "fh6veRwdqMI0"
      },
      "execution_count": null,
      "outputs": []
    }
  ]
}